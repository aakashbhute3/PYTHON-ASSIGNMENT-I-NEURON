{
 "cells": [
  {
   "cell_type": "markdown",
   "id": "984b4513",
   "metadata": {},
   "source": [
    "# Assignment 21 Solutions"
   ]
  },
  {
   "cell_type": "markdown",
   "id": "4fe8b19e",
   "metadata": {},
   "source": [
    "#### 1. Add the current date to the text file today.txt as a string."
   ]
  },
  {
   "cell_type": "code",
   "execution_count": 1,
   "id": "4c5ad5ac",
   "metadata": {},
   "outputs": [
    {
     "name": "stdout",
     "output_type": "stream",
     "text": [
      "27-04-2023\n"
     ]
    }
   ],
   "source": [
    "import datetime\n",
    "# Code to Add current date to the today.txt file\n",
    "file = open('today.txt','w')\n",
    "file.write(datetime.datetime.now().strftime(\"%d-%m-%Y\"))\n",
    "file.close()\n",
    "# Code to Read current date from today.txt file\n",
    "file = open('today.txt','r')\n",
    "print(file.read())\n",
    "file.close()"
   ]
  },
  {
   "cell_type": "markdown",
   "id": "6cf23762",
   "metadata": {},
   "source": [
    "#### 2. Read the text file today.txt into the string today_string"
   ]
  },
  {
   "cell_type": "code",
   "execution_count": 2,
   "id": "107143ea",
   "metadata": {},
   "outputs": [
    {
     "name": "stdout",
     "output_type": "stream",
     "text": [
      "27-04-2023\n"
     ]
    }
   ],
   "source": [
    "file = open('today.txt','r')\n",
    "today_string = file.read()\n",
    "print(today_string)"
   ]
  },
  {
   "cell_type": "markdown",
   "id": "165addb6",
   "metadata": {},
   "source": [
    "#### 3. Parse the date from today_string."
   ]
  },
  {
   "cell_type": "code",
   "execution_count": 3,
   "id": "c622da5b",
   "metadata": {},
   "outputs": [
    {
     "name": "stdout",
     "output_type": "stream",
     "text": [
      "2023-04-27 00:00:00\n"
     ]
    }
   ],
   "source": [
    "from datetime import datetime\n",
    "parsed_data = datetime.strptime(today_string, '%d-%m-%Y')\n",
    "print(parsed_data)"
   ]
  },
  {
   "cell_type": "markdown",
   "id": "664d3278",
   "metadata": {},
   "source": [
    "#### 4. List the files in your current directory"
   ]
  },
  {
   "cell_type": "code",
   "execution_count": 4,
   "id": "cbacd0e4",
   "metadata": {},
   "outputs": [
    {
     "name": "stdout",
     "output_type": "stream",
     "text": [
      "01.Assignment.ipynb\n",
      "today.txt\n",
      "21.Assignment.ipynb\n",
      "03.Assignment.ipynb\n",
      "25.Assignment.ipynb\n",
      "07.Assignment.ipynb\n",
      "17.Assignment.ipynb\n",
      "04.Assignment.ipynb\n",
      "11.Assignmen.ipynb\n",
      "24.Assignment.ipynb\n",
      "18.Assignment.ipynb\n",
      "09.Assignment.ipynb\n",
      "12.Assignment.ipynb\n",
      "19.Assignment.ipynb\n",
      "06.Assignment.ipynb\n",
      "02.Assignment.ipynb\n",
      "05.Assignment.ipynb\n",
      "23.Assignment.ipynb\n",
      "20.Assignment.ipynb\n",
      "10.Assignment.ipynb\n",
      "13.Assignment.ipynb\n",
      "16.Assignment.ipynb\n",
      "15.Assignment.ipynb\n",
      "22.Assignment.ipynb\n",
      "08.Assignment.ipynb\n",
      "14.Assignment.ipynb\n",
      "05.Assignment-checkpoint.ipynb\n",
      "11.Assignmen-checkpoint.ipynb\n",
      "09.Assignment-checkpoint.ipynb\n",
      "07.Assignment-checkpoint.ipynb\n",
      "10.Assignment-checkpoint.ipynb\n",
      "17.Assignment-checkpoint.ipynb\n",
      "19.Assignment-checkpoint.ipynb\n",
      "15.Assignment-checkpoint.ipynb\n",
      "03.Assignment-checkpoint.ipynb\n",
      "08.Assignment-checkpoint.ipynb\n",
      "14.Assignment-checkpoint.ipynb\n",
      "01.Assignment-checkpoint.ipynb\n",
      "20.Assignment-checkpoint.ipynb\n",
      "18.Assignment-checkpoint.ipynb\n",
      "13.Assignment-checkpoint.ipynb\n",
      "04.Assignment-checkpoint.ipynb\n",
      "23.Assignment-checkpoint.ipynb\n",
      "22.Assignment-checkpoint.ipynb\n",
      "25.Assignment-checkpoint.ipynb\n",
      "21.Assignment-checkpoint.ipynb\n",
      "12.Assignment-checkpoint.ipynb\n",
      "16.Assignment-checkpoint.ipynb\n",
      "24.Assignment-checkpoint.ipynb\n",
      "02.Assignment-checkpoint.ipynb\n",
      "06.Assignment-checkpoint.ipynb\n",
      "packed-refs\n",
      "HEAD\n",
      "index\n",
      "config\n",
      "description\n",
      "exclude\n",
      "prepare-commit-msg.sample\n",
      "pre-receive.sample\n",
      "push-to-checkout.sample\n",
      "pre-applypatch.sample\n",
      "pre-push.sample\n",
      "pre-commit.sample\n",
      "pre-merge-commit.sample\n",
      "post-update.sample\n",
      "pre-rebase.sample\n",
      "applypatch-msg.sample\n",
      "update.sample\n",
      "fsmonitor-watchman.sample\n",
      "commit-msg.sample\n",
      "HEAD\n",
      "main\n",
      "HEAD\n",
      "main\n",
      "HEAD\n",
      "pack-e7c7ad9902ea78b6b87b6275b2d06eac995ff177.pack\n",
      "pack-e7c7ad9902ea78b6b87b6275b2d06eac995ff177.idx\n"
     ]
    }
   ],
   "source": [
    "import os\n",
    "for folders, subfolders, files in os.walk(os.getcwd()):\n",
    "    for file in files:\n",
    "        print(file)"
   ]
  },
  {
   "cell_type": "markdown",
   "id": "291a203b",
   "metadata": {},
   "source": [
    "#### 5. Create a list of all of the files in your parent directory (minimum five files should be available)."
   ]
  },
  {
   "cell_type": "code",
   "execution_count": 5,
   "id": "efe9618b",
   "metadata": {},
   "outputs": [
    {
     "data": {
      "text/plain": [
       "['01.Assignment.ipynb',\n",
       " 'today.txt',\n",
       " '21.Assignment.ipynb',\n",
       " '03.Assignment.ipynb',\n",
       " '25.Assignment.ipynb',\n",
       " '07.Assignment.ipynb',\n",
       " '.ipynb_checkpoints',\n",
       " '17.Assignment.ipynb',\n",
       " '04.Assignment.ipynb',\n",
       " '11.Assignmen.ipynb',\n",
       " '24.Assignment.ipynb',\n",
       " '18.Assignment.ipynb',\n",
       " '09.Assignment.ipynb',\n",
       " '12.Assignment.ipynb',\n",
       " '19.Assignment.ipynb',\n",
       " '06.Assignment.ipynb',\n",
       " '02.Assignment.ipynb',\n",
       " '05.Assignment.ipynb',\n",
       " '23.Assignment.ipynb',\n",
       " '20.Assignment.ipynb',\n",
       " '10.Assignment.ipynb',\n",
       " '13.Assignment.ipynb',\n",
       " '16.Assignment.ipynb',\n",
       " '.git',\n",
       " '15.Assignment.ipynb',\n",
       " '22.Assignment.ipynb',\n",
       " '08.Assignment.ipynb',\n",
       " '14.Assignment.ipynb']"
      ]
     },
     "execution_count": 5,
     "metadata": {},
     "output_type": "execute_result"
    }
   ],
   "source": [
    "import os \n",
    "os.listdir()"
   ]
  },
  {
   "cell_type": "markdown",
   "id": "203dd9fe",
   "metadata": {},
   "source": [
    "#### 6. Use multiprocessing to create three separate processes. Make each one wait a random number of seconds between one and five, print the current time, and then exit."
   ]
  },
  {
   "cell_type": "code",
   "execution_count": 6,
   "id": "bcb2799b",
   "metadata": {},
   "outputs": [
    {
     "name": "stdout",
     "output_type": "stream",
     "text": [
      "Proc_one_Starttime -> 2023-04-27 04:11:21.448273\n",
      "Proc_two_Starttime -> 2023-04-27 04:11:21.477442\n",
      "Proc_two_Starttime -> 2023-04-27 04:11:21.483505\n",
      "Proc_one_Endtime -> 2023-04-27 04:11:22.478894\n",
      "Proc_two_Endtime -> 2023-04-27 04:11:22.483463\n",
      "Proc_two_Endtime -> 2023-04-27 04:11:22.487910\n"
     ]
    }
   ],
   "source": [
    "import multiprocessing\n",
    "import time \n",
    "import random\n",
    "import datetime\n",
    "\n",
    "def procOne():\n",
    "    print(f'Proc_one_Starttime -> {datetime.datetime.now()}')\n",
    "    time.sleep(random.randint(1,5))\n",
    "    print(f'Proc_one_Endtime -> {datetime.datetime.now()}')\n",
    "    \n",
    "def procTwo():\n",
    "    print(f'Proc_two_Starttime -> {datetime.datetime.now()}')\n",
    "    time.sleep(random.randint(1,5))\n",
    "    print(f'Proc_two_Endtime -> {datetime.datetime.now()}')\n",
    "\n",
    "def procThree():\n",
    "    print(f'Proc_two_Starttime -> {datetime.datetime.now()}')\n",
    "    time.sleep(random.randint(1,5))\n",
    "    print(f'Proc_two_Endtime -> {datetime.datetime.now()}')\n",
    "    \n",
    "if __name__ == \"__main__\":    \n",
    "    p1 = multiprocessing.Process(target=procOne)\n",
    "    p2 = multiprocessing.Process(target=procTwo)\n",
    "    p3 = multiprocessing.Process(target=procThree)\n",
    "\n",
    "    p1.start()\n",
    "    p2.start()\n",
    "    p3.start()\n",
    "\n",
    "    p1.join()\n",
    "    p2.join()\n",
    "    p3.join()"
   ]
  },
  {
   "cell_type": "markdown",
   "id": "710ba830-38ca-4814-a28d-a266099ff07f",
   "metadata": {},
   "source": [
    "Due to some unknown reason. the above did not print any results in the jupyter cell. so i copied the code to a python file. executed it and pasted the ouput here  \n",
    "`(base) C:\\Users\\vishnu.adepu\\Desktop>python es_poc.py`  \n",
    "`Proc_one_Starttime -> 2021-09-22 18:41:59.354061`  \n",
    "`Proc_two_Starttime -> 2021-09-22 18:41:59.363712`  \n",
    "`Proc_two_Starttime -> 2021-09-22 18:41:59.367238`  \n",
    "`Proc_two_Endtime -> 2021-09-22 18:42:04.369860`  \n",
    "`Proc_two_Endtime -> 2021-09-22 18:42:04.369860`  \n",
    "`Proc_one_Endtime -> 2021-09-22 18:42:04.369860`  "
   ]
  },
  {
   "cell_type": "markdown",
   "id": "71d07e78",
   "metadata": {},
   "source": [
    "#### 7. Create a date object of your day of birth."
   ]
  },
  {
   "cell_type": "code",
   "execution_count": 7,
   "id": "b3e67c1c",
   "metadata": {},
   "outputs": [
    {
     "name": "stdout",
     "output_type": "stream",
     "text": [
      "1997-04-22 00:00:00 <class 'datetime.datetime'>\n"
     ]
    }
   ],
   "source": [
    "from datetime import datetime\n",
    "my_dob = datetime.strptime('22/04/1997','%d/%m/%Y')\n",
    "print(my_dob, type(my_dob))"
   ]
  },
  {
   "cell_type": "markdown",
   "id": "e5775db9",
   "metadata": {},
   "source": [
    "#### 8. What day of the week was your day of birth?"
   ]
  },
  {
   "cell_type": "code",
   "execution_count": 8,
   "id": "65b6ae43",
   "metadata": {},
   "outputs": [
    {
     "data": {
      "text/plain": [
       "'Tuesday'"
      ]
     },
     "execution_count": 8,
     "metadata": {},
     "output_type": "execute_result"
    }
   ],
   "source": [
    "from datetime import datetime\n",
    "my_dob = datetime(1997,4,22)\n",
    "my_dob.strftime(\"%A\")"
   ]
  },
  {
   "cell_type": "markdown",
   "id": "abe779de",
   "metadata": {},
   "source": [
    "#### 9. When will you be (or when were you) 10,000 days old?"
   ]
  },
  {
   "cell_type": "code",
   "execution_count": 9,
   "id": "db7e28a0",
   "metadata": {},
   "outputs": [
    {
     "data": {
      "text/plain": [
       "datetime.datetime(1969, 12, 5, 0, 0)"
      ]
     },
     "execution_count": 9,
     "metadata": {},
     "output_type": "execute_result"
    }
   ],
   "source": [
    "from datetime import datetime, timedelta\n",
    "my_dob = datetime.strptime(\"22/04/1997\",'%d/%m/%Y')\n",
    "future_date = my_dob-timedelta(10000)\n",
    "future_date"
   ]
  },
  {
   "cell_type": "markdown",
   "id": "37b1bbab-0e8d-49e3-9b30-7d3d1ad25c23",
   "metadata": {},
   "source": [
    "# AAKASH BHUTE\n",
    "## Python Basic Assignment 21"
   ]
  },
  {
   "cell_type": "code",
   "execution_count": null,
   "id": "0a9e19cc-c8b7-491c-b287-3aadb6b2749a",
   "metadata": {},
   "outputs": [],
   "source": []
  }
 ],
 "metadata": {
  "kernelspec": {
   "display_name": "Python 3 (ipykernel)",
   "language": "python",
   "name": "python3"
  },
  "language_info": {
   "codemirror_mode": {
    "name": "ipython",
    "version": 3
   },
   "file_extension": ".py",
   "mimetype": "text/x-python",
   "name": "python",
   "nbconvert_exporter": "python",
   "pygments_lexer": "ipython3",
   "version": "3.10.8"
  }
 },
 "nbformat": 4,
 "nbformat_minor": 5
}
